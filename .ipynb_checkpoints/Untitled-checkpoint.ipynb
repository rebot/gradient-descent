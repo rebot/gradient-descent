{
 "cells": [
  {
   "cell_type": "code",
   "execution_count": 2,
   "metadata": {},
   "outputs": [
    {
     "ename": "NameError",
     "evalue": "name 'matplotlib' is not defined",
     "output_type": "error",
     "traceback": [
      "\u001b[0;31m---------------------------------------------------------------------------\u001b[0m",
      "\u001b[0;31mNameError\u001b[0m                                 Traceback (most recent call last)",
      "\u001b[0;32m<ipython-input-2-074b43179cbb>\u001b[0m in \u001b[0;36m<module>\u001b[0;34m()\u001b[0m\n\u001b[1;32m      6\u001b[0m \u001b[0;32mfrom\u001b[0m \u001b[0mIPython\u001b[0m\u001b[0;34m.\u001b[0m\u001b[0mdisplay\u001b[0m \u001b[0;32mimport\u001b[0m \u001b[0mHTML\u001b[0m\u001b[0;34m\u001b[0m\u001b[0m\n\u001b[1;32m      7\u001b[0m \u001b[0;34m\u001b[0m\u001b[0m\n\u001b[0;32m----> 8\u001b[0;31m \u001b[0mmatplotlib\u001b[0m\u001b[0;34m.\u001b[0m\u001b[0mrcParams\u001b[0m\u001b[0;34m[\u001b[0m\u001b[0;34m'animation.writer'\u001b[0m\u001b[0;34m]\u001b[0m \u001b[0;34m=\u001b[0m \u001b[0;34m'avconv'\u001b[0m\u001b[0;34m\u001b[0m\u001b[0m\n\u001b[0m\u001b[1;32m      9\u001b[0m \u001b[0;34m\u001b[0m\u001b[0m\n\u001b[1;32m     10\u001b[0m \u001b[0mx\u001b[0m \u001b[0;34m=\u001b[0m \u001b[0mnp\u001b[0m\u001b[0;34m.\u001b[0m\u001b[0mlinspace\u001b[0m\u001b[0;34m(\u001b[0m\u001b[0;36m1\u001b[0m\u001b[0;34m,\u001b[0m \u001b[0;36m20\u001b[0m\u001b[0;34m,\u001b[0m \u001b[0;36m30\u001b[0m\u001b[0;34m)\u001b[0m\u001b[0;34m\u001b[0m\u001b[0m\n",
      "\u001b[0;31mNameError\u001b[0m: name 'matplotlib' is not defined"
     ]
    }
   ],
   "source": [
    "%matplotlib inline\n",
    "import os\n",
    "import numpy as np\n",
    "import matplotlib\n",
    "import matplotlib.pyplot as plt\n",
    "import matplotlib.animation as animation\n",
    "from IPython.display import HTML\n",
    "\n",
    "matplotlib.rcParams['animation.writer'] = 'avconv'\n",
    "\n",
    "x = np.linspace(1, 20, 30)\n",
    "y = np.linspace(3, 50, 30) + 5\n",
    "\n",
    "distances = np.vectorize(lambda x, y: (x - y) ** 2, otypes=[np.float])\n",
    "distance = lambda x,y: np.sum(distances(x,y)) / float(len(x))\n",
    "\n",
    "afg_b = np.vectorize(lambda x, y, b, m: 2 * ((b * x + m) - y) * (x))\n",
    "afg_m = np.vectorize(lambda x, y, b, m: 2 * ((b * x + m) - y) * (1))\n",
    "\n",
    "def gradient_decent_runner(points, initital_b, initial_m, learning_rate, num_iterations):\n",
    "    fig = plt.figure()\n",
    "    plots = []\n",
    "    x,y = points\n",
    "    p = np.array([initital_b,initial_m])\n",
    "    for _ in range(num_iterations):\n",
    "        error = distance(y, np.polyval(p, x))\n",
    "        p = np.array([\n",
    "            p[0] + learning_rate * (1 if np.sum(afg_b(x,y,p[0],p[1])) < 0 else -1),\n",
    "            p[0] + learning_rate * (1 if np.sum(afg_m(x,y,p[0],p[1])) < 0 else -1)\n",
    "        ])\n",
    "        plots.append((plt.scatter(x,np.polyval(p, x)),))\n",
    "    anim = animation.ArtistAnimation(fig, plots, interval=50, repeat_delay=3000, blit=True)\n",
    "    HTML(anim.to_html5_video())\n",
    "    return p\n",
    "\n",
    "if __name__ == '__main__':\n",
    "    [b, m] = gradient_decent_runner([x,y],0,0,0.05,50)"
   ]
  },
  {
   "cell_type": "code",
   "execution_count": null,
   "metadata": {
    "collapsed": true
   },
   "outputs": [],
   "source": []
  }
 ],
 "metadata": {
  "kernelspec": {
   "display_name": "Python 3",
   "language": "python",
   "name": "python3"
  },
  "language_info": {
   "codemirror_mode": {
    "name": "ipython",
    "version": 3
   },
   "file_extension": ".py",
   "mimetype": "text/x-python",
   "name": "python",
   "nbconvert_exporter": "python",
   "pygments_lexer": "ipython3",
   "version": "3.5.2"
  }
 },
 "nbformat": 4,
 "nbformat_minor": 2
}
